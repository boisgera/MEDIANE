{
 "cells": [
  {
   "cell_type": "markdown",
   "metadata": {},
   "source": [
    "**Source:** [Better Everyday] blog, by [Rob Go], cofounder of NextView.\n",
    "\n",
    "Fragments of the original article are displayed as block quotations.\n",
    "\n",
    "[Better Everyday]: https://bettereveryday.vc/how-hard-is-it-to-generate-a-10x-return-on-an-investment-9c1656d6c3af\n",
    "[Rob Go]: https://bettereveryday.vc/@robgo"
   ]
  },
  {
   "cell_type": "markdown",
   "metadata": {},
   "source": [
    "> How Hard Is It to Generate a 10X Return on an Investment?\n",
    "> ===============================\n",
    "\n",
    "> *Disclaimer: This post gets fairly detailed on venture math. I generally think it’s helpful for founders who take VC money to understand the business of their investors because it impacts their incentives and how they see the world. Those who have no interest in these sorts of topics should move on or go back to watching the price of BTC :)*\n",
    "\n",
    "> Every time I see blog posts referencing multiples on VC investments, I wonder if writers or readers appreciate how hard it is to generate these kinds of multiples and how multiples should really be calculated.\n",
    "\n",
    "> Obviously, the way to calculate a return multiple is to divide the amount returned from an investment by the dollars invested. If I invested \\$10M in a company and got back \\$100M, that’s a 10X return. Seems pretty straightforward, right?\n",
    "\n",
    "> **The problem arises when multiples are inferred from incomplete data.** It’s quite rare that anybody but the fund manager actually knows the dollars out and dollars returned by a specific investment. And if you have incomplete data, there are usually a number of things that go into calculating or estimating the return. Here are a few other things to think about."
   ]
  },
  {
   "cell_type": "markdown",
   "metadata": {},
   "source": [
    "> ## How to Actually Calculate a Investment Return Multiple\n",
    "\n",
    "> ### Remember each round of financing further dilutes early investors’ money.\n",
    "\n",
    "> Let’s say a seed investor put in \\$1M in a company’s first financing around at a \\$10M post-money valuation. \n",
    "> The company ultimately sold for \\$200M. So, one might infer that the seed investor made \\$200M/\\$10M= 20X their money.\n"
   ]
  },
  {
   "cell_type": "code",
   "execution_count": 28,
   "metadata": {},
   "outputs": [],
   "source": [
    "def multiple(investment, post_money_value, exit_value):\n",
    "    ownership = (investment / post_money_value)\n",
    "    money_out = ownership * exit_value\n",
    "    return money_out / investment"
   ]
  },
  {
   "cell_type": "code",
   "execution_count": 35,
   "metadata": {},
   "outputs": [
    {
     "data": {
      "text/plain": [
       "20.0"
      ]
     },
     "execution_count": 35,
     "metadata": {},
     "output_type": "execute_result"
    }
   ],
   "source": [
    "mult = multiple(investment=1.0, post_money_value=10.0, exit_value=200.0)\n",
    "mult"
   ]
  },
  {
   "cell_type": "code",
   "execution_count": 1,
   "metadata": {},
   "outputs": [],
   "source": [
    "def return_on_investment(investment, post_money_value, exit_value):\n",
    "    mult = multiple(investment, post_money_value, exit_value)\n",
    "    money_out = mult * investment\n",
    "    return (money_out - investment) / investment"
   ]
  },
  {
   "cell_type": "code",
   "execution_count": 39,
   "metadata": {},
   "outputs": [
    {
     "data": {
      "text/plain": [
       "19.0"
      ]
     },
     "execution_count": 39,
     "metadata": {},
     "output_type": "execute_result"
    }
   ],
   "source": [
    "ROI = return_on_investment(investment=1.0, post_money_value=10.0, exit_value=200.0)\n",
    "ROI"
   ]
  },
  {
   "cell_type": "markdown",
   "metadata": {},
   "source": [
    "The multiple and return on investment are *fractions*, they are unitless. \n",
    "You may add a \"X\" unit (for *times*) after these numbers:\n",
    "since you have to multiply `multiple` by the investment to get the total money out of the deal."
   ]
  },
  {
   "cell_type": "code",
   "execution_count": 40,
   "metadata": {},
   "outputs": [
    {
     "name": "stdout",
     "output_type": "stream",
     "text": [
      "Multiple: 20.0 X\n"
     ]
    }
   ],
   "source": [
    "print(\"Multiple:\", mult, \"X\") "
   ]
  },
  {
   "cell_type": "markdown",
   "metadata": {},
   "source": [
    "These values can a given as a percentage."
   ]
  },
  {
   "cell_type": "code",
   "execution_count": 41,
   "metadata": {},
   "outputs": [
    {
     "name": "stdout",
     "output_type": "stream",
     "text": [
      "1900.0 %\n"
     ]
    }
   ],
   "source": [
    "print(100.0 * ROI, \"%\") "
   ]
  },
  {
   "cell_type": "markdown",
   "metadata": {},
   "source": [
    "Both values are independent on the value of the investment:\n",
    "if the VC had put \\$2M instead of \\$1M, `multiple` would be the same:"
   ]
  },
  {
   "cell_type": "code",
   "execution_count": 42,
   "metadata": {},
   "outputs": [
    {
     "data": {
      "text/plain": [
       "20.0"
      ]
     },
     "execution_count": 42,
     "metadata": {},
     "output_type": "execute_result"
    }
   ],
   "source": [
    "multiple(investment=1.0, post_money_value=10.0, exit_value=200.0)"
   ]
  },
  {
   "cell_type": "markdown",
   "metadata": {},
   "source": [
    "However, it depends on the [post-money valuation]: \n",
    "if there are initially more investors for example and \n",
    "the value after the seed round is \\$20M instead of \\$10M, the return on investment is lower:\n",
    "\n",
    "[post-money valuation]: https://en.wikipedia.org/wiki/Post-money_valuation"
   ]
  },
  {
   "cell_type": "code",
   "execution_count": 43,
   "metadata": {},
   "outputs": [
    {
     "data": {
      "text/plain": [
       "10.0"
      ]
     },
     "execution_count": 43,
     "metadata": {},
     "output_type": "execute_result"
    }
   ],
   "source": [
    "multiple(investment=1.0, post_money_value=20.0, exit_value=200.0)"
   ]
  },
  {
   "cell_type": "markdown",
   "metadata": {},
   "source": [
    "-----"
   ]
  },
  {
   "cell_type": "markdown",
   "metadata": {},
   "source": [
    "**Question.** What would be the `multiple` for an investment of \\$1M if the company had a post-money valuation of \\$10M but was sold for \\$150M ?"
   ]
  },
  {
   "cell_type": "code",
   "execution_count": 44,
   "metadata": {},
   "outputs": [],
   "source": [
    "# multiple(investment=?, post_money_value=?, exit_value=?)"
   ]
  },
  {
   "cell_type": "markdown",
   "metadata": {},
   "source": [
    "> Unfortunately, this is almost never the case.\n",
    "\n",
    "> In almost any outcome like this, the company goes on to raise more money, usually at higher prices. As new investors come on board, all existing shareholders of the company will have their ownership stake in the business diluted. This also happens when a company expands their option pool.\n",
    "\n",
    "> Here’s how that plays out for the seed investors.\n",
    "\n",
    "> Let’s say this theoretical company raises just one more round of financing. It’s a \\$10M round at a \\$50M post-money valuation. And as part of the round, the option pool of the company is expanded by an additional 10%. \n",
    "After this round, the company has their \\$200M exit.\n",
    "\n",
    "> In this example, the flow of the math would be something like this: The seed investor owned 10% after the seed financing. In the next round, the seed investor’s ownership is diluted by 30% (20% due the new financing and 10% due to the expanded option pool)."
   ]
  },
  {
   "cell_type": "code",
   "execution_count": null,
   "metadata": {},
   "outputs": [],
   "source": [
    "def dilution(round_size, post_, OPD): multiple(investment=1.0, post_money_value=20.0, exit_value=200.0)\n",
    "    return round_size / PPMV + OPD"
   ]
  },
  {
   "cell_type": "code",
   "execution_count": null,
   "metadata": {},
   "outputs": [],
   "source": [
    "dilution(R=10.0, PPMV=50.0, OPD=10.0/100.0)"
   ]
  },
  {
   "cell_type": "markdown",
   "metadata": {},
   "source": [
    "> So the seed investor’s ownership was actually 7% at exit. \n",
    "Thus, their \\$1M returns \\$14M — a 14X return. \n",
    "Pretty great, but meaningfully different from 20X."
   ]
  },
  {
   "cell_type": "code",
   "execution_count": null,
   "metadata": {},
   "outputs": [],
   "source": [
    "def return_on_investment(I, PMV, E, R, PPMV, OPD):\n",
    "    ownership = I / PMV\n",
    "    ownership  = ownership * (1.0 - dilution(R, PPMV, OPD))\n",
    "    return ownership * E / I"
   ]
  },
  {
   "cell_type": "code",
   "execution_count": null,
   "metadata": {},
   "outputs": [],
   "source": [
    "return_on_investment(I=1.0, PMV=10.0, E=200.0, R=10.0, PPMV=50.0, OPD=0.1)"
   ]
  },
  {
   "cell_type": "markdown",
   "metadata": {},
   "source": [
    "> Another way to look at it is the effective post-money of the investment. \n",
    "At the seed, the investor bought 10% for \\$1M. \n",
    "But when it was all said and done, the investor actually bought 7% for \\$1M. \n",
    "It was like they invested in the company at a valuation of \\$1M / 7% = \\$14.3M.\n",
    "\n",
    "> But most companies do not have a straight shot to a multi-hundred million dollar exit with just a seed and Series A. \n",
    "Most raise multiple rounds, and dilution happens at each round."
   ]
  },
  {
   "cell_type": "markdown",
   "metadata": {},
   "source": [
    "> Below is a sample outcome table for a few scenarios.\n",
    "> ![Fund Multiples & Effective Post-Money](https://cdn-images-1.medium.com/max/600/1*sK0tR1eGTX1t4DiA2Nt0pg.png)"
   ]
  },
  {
   "cell_type": "code",
   "execution_count": 48,
   "metadata": {},
   "outputs": [
    {
     "data": {
      "text/html": [
       "<style  type=\"text/css\" >\n",
       "    #T_4fdc4e70_e35c_11e7_a220_e4a7a054bbf9row0_col1 {\n",
       "            background-color:  #00ff0030;\n",
       "        }    #T_4fdc4e70_e35c_11e7_a220_e4a7a054bbf9row1_col1 {\n",
       "            background-color:  #00ff0030;\n",
       "        }    #T_4fdc4e70_e35c_11e7_a220_e4a7a054bbf9row2_col1 {\n",
       "            background-color:  #00ff0030;\n",
       "        }    #T_4fdc4e70_e35c_11e7_a220_e4a7a054bbf9row3_col1 {\n",
       "            background-color: ;\n",
       "        }    #T_4fdc4e70_e35c_11e7_a220_e4a7a054bbf9row4_col1 {\n",
       "            background-color: ;\n",
       "        }</style>  \n",
       "<table id=\"T_4fdc4e70_e35c_11e7_a220_e4a7a054bbf9\" > \n",
       "<thead>    <tr> \n",
       "        <th class=\"blank level0\" ></th> \n",
       "        <th class=\"col_heading level0 col0\" >Future Dilution</th> \n",
       "        <th class=\"col_heading level0 col1\" >Multiple</th> \n",
       "    </tr></thead> \n",
       "<tbody>    <tr> \n",
       "        <th id=\"T_4fdc4e70_e35c_11e7_a220_e4a7a054bbf9level0_row0\" class=\"row_heading level0 row0\" >0</th> \n",
       "        <td id=\"T_4fdc4e70_e35c_11e7_a220_e4a7a054bbf9row0_col0\" class=\"data row0 col0\" >30</td> \n",
       "        <td id=\"T_4fdc4e70_e35c_11e7_a220_e4a7a054bbf9row0_col1\" class=\"data row0 col1\" >14</td> \n",
       "    </tr>    <tr> \n",
       "        <th id=\"T_4fdc4e70_e35c_11e7_a220_e4a7a054bbf9level0_row1\" class=\"row_heading level0 row1\" >1</th> \n",
       "        <td id=\"T_4fdc4e70_e35c_11e7_a220_e4a7a054bbf9row1_col0\" class=\"data row1 col0\" >40</td> \n",
       "        <td id=\"T_4fdc4e70_e35c_11e7_a220_e4a7a054bbf9row1_col1\" class=\"data row1 col1\" >12</td> \n",
       "    </tr>    <tr> \n",
       "        <th id=\"T_4fdc4e70_e35c_11e7_a220_e4a7a054bbf9level0_row2\" class=\"row_heading level0 row2\" >2</th> \n",
       "        <td id=\"T_4fdc4e70_e35c_11e7_a220_e4a7a054bbf9row2_col0\" class=\"data row2 col0\" >50</td> \n",
       "        <td id=\"T_4fdc4e70_e35c_11e7_a220_e4a7a054bbf9row2_col1\" class=\"data row2 col1\" >10</td> \n",
       "    </tr>    <tr> \n",
       "        <th id=\"T_4fdc4e70_e35c_11e7_a220_e4a7a054bbf9level0_row3\" class=\"row_heading level0 row3\" >3</th> \n",
       "        <td id=\"T_4fdc4e70_e35c_11e7_a220_e4a7a054bbf9row3_col0\" class=\"data row3 col0\" >60</td> \n",
       "        <td id=\"T_4fdc4e70_e35c_11e7_a220_e4a7a054bbf9row3_col1\" class=\"data row3 col1\" >8</td> \n",
       "    </tr>    <tr> \n",
       "        <th id=\"T_4fdc4e70_e35c_11e7_a220_e4a7a054bbf9level0_row4\" class=\"row_heading level0 row4\" >4</th> \n",
       "        <td id=\"T_4fdc4e70_e35c_11e7_a220_e4a7a054bbf9row4_col0\" class=\"data row4 col0\" >70</td> \n",
       "        <td id=\"T_4fdc4e70_e35c_11e7_a220_e4a7a054bbf9row4_col1\" class=\"data row4 col1\" >6</td> \n",
       "    </tr></tbody> \n",
       "</table> "
      ],
      "text/plain": [
       "<pandas.io.formats.style.Styler at 0x7f90b629b0f0>"
      ]
     },
     "execution_count": 48,
     "metadata": {},
     "output_type": "execute_result"
    }
   ],
   "source": [
    "import pandas as pd\n",
    "import numpy as np\n",
    "\n",
    "def return_on_investment(dilution, PMV, E):\n",
    "    return (1.0 - dilution) * E / PMV\n",
    "\n",
    "dilutions = [30.0, 40.0, 50.0, 60.0, 70.0]\n",
    "\n",
    "data = []\n",
    "for dilution in dilutions:\n",
    "    data.append([dilution, return_on_investment(dilution/100.0, PMV=10.0, E=200.0)])\n",
    "\n",
    "df = pd.DataFrame(data, columns=[\"Future Dilution\", \"Multiple\"])\n",
    "# https://pandas.pydata.org/pandas-docs/stable/style.html\n",
    "\n",
    "def at_least_10X(val):\n",
    "    if val >= 10.0:\n",
    "        return 'background-color: #00ff0030'\n",
    "    else:\n",
    "        return 'background-color:'\n",
    "        \n",
    "s = df.style.applymap(at_least_10X, subset=[\"Multiple\"])\n",
    "s\n"
   ]
  },
  {
   "cell_type": "markdown",
   "metadata": {},
   "source": [
    "> What this shows is that the investor’s multiple dramatically changes depending on how many rounds of financing occur after the initial round and the level of dilution of each round.\n",
    "\n",
    ">I like thinking about this in terms of effective post-money because it creates a more visceral reaction. If this company goes on to raise multiple financing rounds such that new investors and future employees end up with an additional 50%, the seed investor mathematically invested at a $20M post-money valuation. Still good, but not what you think of as seed-stage prices.\n",
    "\n",
    ">> This is why celebrating big financings isn’t always such a great thing.\n",
    ">> Apart from the screwed-up incentives that can arise from overcapitalized companies, \n",
    ">> each time a company raises money, all prior investors get diluted, \n",
    ">> which increases the effective post-money of all the earlier dollars."
   ]
  }
 ],
 "metadata": {
  "kernelspec": {
   "display_name": "Python 3",
   "language": "python",
   "name": "python3"
  },
  "language_info": {
   "codemirror_mode": {
    "name": "ipython",
    "version": 3
   },
   "file_extension": ".py",
   "mimetype": "text/x-python",
   "name": "python",
   "nbconvert_exporter": "python",
   "pygments_lexer": "ipython3",
   "version": "3.6.3"
  }
 },
 "nbformat": 4,
 "nbformat_minor": 2
}
