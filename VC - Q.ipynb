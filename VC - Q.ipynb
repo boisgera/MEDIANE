{
 "cells": [
  {
   "cell_type": "markdown",
   "metadata": {},
   "source": [
    "**Source:** [Better Everyday] blog, by [Rob Go], cofounder of NextView.\n",
    "\n",
    "Fragments of the original article are displayed as block quotations.\n",
    "\n",
    "[Better Everyday]: https://bettereveryday.vc/how-hard-is-it-to-generate-a-10x-return-on-an-investment-9c1656d6c3af\n",
    "[Rob Go]: https://bettereveryday.vc/@robgo"
   ]
  },
  {
   "cell_type": "markdown",
   "metadata": {},
   "source": [
    "> How Hard Is It to Generate a 10X Return on an Investment?\n",
    "> ===============================\n",
    "\n",
    "> *Disclaimer: This post gets fairly detailed on venture math. I generally think it’s helpful for founders who take VC money to understand the business of their investors because it impacts their incentives and how they see the world. Those who have no interest in these sorts of topics should move on or go back to watching the price of BTC :)*\n",
    "\n",
    "> Every time I see blog posts referencing multiples on VC investments, I wonder if writers or readers appreciate how hard it is to generate these kinds of multiples and how multiples should really be calculated.\n",
    "\n",
    "> Obviously, the way to calculate a return multiple is to divide the amount returned from an investment by the dollars invested. If I invested \\$10M in a company and got back \\$100M, that’s a 10X return. Seems pretty straightforward, right?\n",
    "\n",
    "> **The problem arises when multiples are inferred from incomplete data.** It’s quite rare that anybody but the fund manager actually knows the dollars out and dollars returned by a specific investment. And if you have incomplete data, there are usually a number of things that go into calculating or estimating the return. Here are a few other things to think about."
   ]
  },
  {
   "cell_type": "markdown",
   "metadata": {},
   "source": [
    "> ## How to Actually Calculate a Investment Return Multiple\n",
    "\n",
    "> ### Remember each round of financing further dilutes early investors’ money.\n",
    "\n",
    "> Let’s say a seed investor put in \\$1M in a company’s first financing around at a \\$10M post-money valuation. \n",
    "> The company ultimately sold for \\$200M. So, one might infer that the seed investor made \\$200M/\\$10M= 20X their money."
   ]
  },
  {
   "cell_type": "markdown",
   "metadata": {},
   "source": [
    "**Task.** Define a function `IRM` that computes the *investment return multiple* of an investor given\n",
    "\n",
    "  - its investment `I`\n",
    "\n",
    "  - the post-money valuation `PMV`\n",
    "  \n",
    "  - the exit value `EV` (the price at which the company was sold)."
   ]
  },
  {
   "cell_type": "code",
   "execution_count": null,
   "metadata": {},
   "outputs": [],
   "source": [
    "def IRM(I, PMV, EV):\n",
    "    ???"
   ]
  },
  {
   "cell_type": "markdown",
   "metadata": {},
   "source": [
    "**Task.** Check that your computation is consistent with the numbers of the article:"
   ]
  },
  {
   "cell_type": "code",
   "execution_count": null,
   "metadata": {},
   "outputs": [],
   "source": [
    "from ipywidgets import interact, FloatText\n",
    "from IPython.display import Markdown\n",
    "\n",
    "wI = FloatText(description=\"investment (M)\", value=1.0)\n",
    "wPMV = FloatText(description=\"post-money valuation (M)\", value=10.0)\n",
    "wEV = FloatText(description=\"exit value (M)\", value=200.0)\n",
    "\n",
    "@interact(I=wI, PMV=wPMV, EV=wEV, continuous_update=False)\n",
    "def display_IRM(I, PMV, EV):\n",
    "    multiple = IRM(I, PMV, EV)\n",
    "    display(Markdown(\"**Investment Return Multiple:** {0:.1f}X\".format(multiple)))"
   ]
  },
  {
   "cell_type": "markdown",
   "metadata": {},
   "source": [
    "**Question.**\n",
    "If the investment is 1M and the post-money valuation is 10M, \n",
    "what is the minimal exit value that meets the target of a 10x multiple?"
   ]
  },
  {
   "cell_type": "markdown",
   "metadata": {},
   "source": [
    "**Answer.** "
   ]
  },
  {
   "cell_type": "markdown",
   "metadata": {},
   "source": [
    "**Question.** Does the investment return multiple depend on the investment value?"
   ]
  },
  {
   "cell_type": "markdown",
   "metadata": {},
   "source": [
    "**Answer.**"
   ]
  },
  {
   "cell_type": "markdown",
   "metadata": {},
   "source": [
    "**Task.** Implement a conversion between the investment return multiple \n",
    "and the more familiar *return on investment* (ROI) percentage."
   ]
  },
  {
   "cell_type": "code",
   "execution_count": null,
   "metadata": {},
   "outputs": [],
   "source": [
    "def IRM_to_ROI(IRM):\n",
    "    ???"
   ]
  },
  {
   "cell_type": "code",
   "execution_count": null,
   "metadata": {},
   "outputs": [],
   "source": [
    "from ipywidgets import interact, FloatText\n",
    "from IPython.display import Markdown\n",
    "\n",
    "wIRM = FloatText(description=\"investment return multiple\", value=10.0)\n",
    "\n",
    "@interact(IRM=wIRM, continuous_update=False)\n",
    "def display_ROI(IRM):\n",
    "    ROI = IRM_to_ROI(IRM)\n",
    "    display(Markdown(\"**Return On Investment:** {0:.1f}%\".format(ROI)))"
   ]
  },
  {
   "cell_type": "markdown",
   "metadata": {},
   "source": [
    "**Question.** What is the ROI associated to a 3X multiple ?"
   ]
  },
  {
   "cell_type": "markdown",
   "metadata": {},
   "source": [
    "**Answer.**"
   ]
  },
  {
   "cell_type": "markdown",
   "metadata": {},
   "source": [
    "> Unfortunately, this is almost never the case.\n",
    "\n",
    "> In almost any outcome like this, the company goes on to raise more money, usually at higher prices. As new investors come on board, all existing shareholders of the company will have their ownership stake in the business diluted. This also happens when a company expands their option pool.\n",
    "\n",
    "> Here’s how that plays out for the seed investors.\n",
    "\n",
    "> Let’s say this theoretical company raises just one more round of financing. It’s a \\$10M round at a \\$50M post-money valuation. And as part of the round, the option pool of the company is expanded by an additional 10%. \n",
    "After this round, the company has their \\$200M exit.\n",
    "\n",
    "> In this example, the flow of the math would be something like this: The seed investor owned 10% after the seed financing. In the next round, the seed investor’s ownership is diluted by 30% (20% due the new financing and 10% due to the expanded option pool).\n",
    "\n",
    "> So the seed investor’s ownership was actually 7% at exit. \n",
    "Thus, their \\$1M returns \\$14M — a 14X return. \n",
    "Pretty great, but meaningfully different from 20X."
   ]
  },
  {
   "cell_type": "markdown",
   "metadata": {},
   "source": [
    "**Task.** Create a new function `IRM2` that computes the investment return multiple given:\n",
    "\n",
    "  - your first round investment `I`\n",
    "  \n",
    "  - the first round post-money valuation `PMV1`\n",
    "  \n",
    "  - the second round size `RS`\n",
    "  \n",
    "  - the second round option pool `OP` (a percentage)\n",
    "  \n",
    "  - the second round post-money valuation `PMV2`\n",
    "   \n",
    "  - the exit value `EV`\n",
    "  "
   ]
  },
  {
   "cell_type": "code",
   "execution_count": null,
   "metadata": {},
   "outputs": [],
   "source": [
    "def IRM2(I, PMV1, OP, RS, PMV2, EV):\n",
    "    ???"
   ]
  },
  {
   "cell_type": "markdown",
   "metadata": {},
   "source": [
    "**Task.** Check with the widget below that your computation match the ones of the article."
   ]
  },
  {
   "cell_type": "code",
   "execution_count": null,
   "metadata": {},
   "outputs": [],
   "source": [
    "from ipywidgets import interactive_output, FloatText, FloatSlider, Label, VBox, HBox\n",
    "from IPython.display import Markdown\n",
    "\n",
    "wL1 = Label(\"First Round\")\n",
    "wI = FloatText(description=\"investment (M)\", value=1.0)\n",
    "wPMV1 = FloatText(description=\"post-money valuation (M)\", value=10.0)\n",
    "\n",
    "wL2 = Label(\"Second Round\")\n",
    "wRS = FloatText(description=\"round size (M)\", value=10.0)\n",
    "wOP = FloatSlider(description=\"option pool (%)\", min=0, max=100.0, value=10.0)\n",
    "wPMV2 = FloatText(description=\"post-money valuation (M)\", value=50.0)\n",
    "\n",
    "def update_option_pool_max(*args):\n",
    "    max_percentage = (1.0 - wRS.value/wPMV2.value) * 100\n",
    "    wOP.max = max_percentage\n",
    "    \n",
    "update_option_pool_max()\n",
    "    \n",
    "wRS.observe(update_option_pool_max, \"value\")\n",
    "wPMV2.observe(update_option_pool_max, \"value\")\n",
    "\n",
    "wL3 = Label(\"Exit\")\n",
    "wEV = FloatText(description=\"exit value (M)\", value=200.0)\n",
    "\n",
    "R1 = VBox([wL1, wI, wPMV1])\n",
    "R2 = VBox([wL2, wOP, wRS, wPMV2])\n",
    "R3 = VBox([wL3, wEV])\n",
    "\n",
    "w = HBox([R1, R2, R3])\n",
    "\n",
    "def display_IRM2(I, PMV1, OP, RS, PMV2, EV):\n",
    "    irm = IRM2(I, PMV1, OP, RS, PMV2, EV)\n",
    "    display(Markdown(\"**Investment Return Multiple:** {0:.1f}\".format(irm)))\n",
    "\n",
    "out = interactive_output(display_IRM2, {\"I\": wI, \"PMV1\": wPMV1, \"OP\": wOP, \"RS\": wRS, \"PMV2\": wPMV2, \"EV\": wEV})\n",
    "\n",
    "display(w, out)"
   ]
  },
  {
   "cell_type": "markdown",
   "metadata": {},
   "source": [
    "**Question.** How does the return multiple depend on the exit value in this model?"
   ]
  },
  {
   "cell_type": "markdown",
   "metadata": {},
   "source": [
    "**Answer.**"
   ]
  },
  {
   "cell_type": "markdown",
   "metadata": {},
   "source": [
    "**Question.** How does the return multiple improve if no option pool is created in round 2?"
   ]
  },
  {
   "cell_type": "markdown",
   "metadata": {},
   "source": [
    "**Answer.**"
   ]
  },
  {
   "cell_type": "markdown",
   "metadata": {},
   "source": [
    "> Another way to look at it is the effective post-money of the investment. \n",
    "At the seed, the investor bought 10% for \\$1M. \n",
    "But when it was all said and done, the investor actually bought 7% for \\$1M. \n",
    "It was like they invested in the company at a valuation of \\$1M / 7% = \\$14.3M.\n",
    "\n",
    "> But most companies do not have a straight shot to a multi-hundred million dollar exit with just a seed and Series A. \n",
    "Most raise multiple rounds, and dilution happens at each round."
   ]
  },
  {
   "cell_type": "markdown",
   "metadata": {},
   "source": [
    "**Task.** Define a function `IEPM` that computes the *effective post-money* given\n",
    "\n",
    "  - its investment `I`\n",
    "\n",
    "  - the final ownership `FO` (a percentage)\n",
    "  "
   ]
  },
  {
   "cell_type": "code",
   "execution_count": null,
   "metadata": {},
   "outputs": [],
   "source": [
    "def EPM(I, FO):\n",
    "    ???"
   ]
  },
  {
   "cell_type": "markdown",
   "metadata": {},
   "source": [
    "> Below is a sample outcome table for a few scenarios.\n",
    "> ![Fund Multiples & Effective Post-Money](https://cdn-images-1.medium.com/max/600/1*sK0tR1eGTX1t4DiA2Nt0pg.png)"
   ]
  },
  {
   "cell_type": "markdown",
   "metadata": {},
   "source": [
    "**Task.** Check that table below returns results that are consistent with the table above. "
   ]
  },
  {
   "cell_type": "code",
   "execution_count": null,
   "metadata": {},
   "outputs": [],
   "source": [
    "import numpy as np\n",
    "import pandas as pd\n",
    "import matplotlib\n",
    "\n",
    "from ipywidgets import FloatText, interact\n",
    "\n",
    "wI = FloatText(description=\"investment (M)\", value=1.0)\n",
    "wPMV1 = FloatText(description=\"post-money valuation (M)\", value=10.0)\n",
    "wEV = FloatText(description=\"exit value (M)\", value=200.0)\n",
    "\n",
    "@interact(I=wI, PMV1=wPMV1, EV=wEV)\n",
    "def compute_array(I, PMV1, EV):\n",
    "    array = []\n",
    "    dilutions = np.r_[0.0:100.0:10.0]\n",
    "    for dilution in dilutions:\n",
    "        row = []\n",
    "        row.append(dilution)\n",
    "\n",
    "        ownership = (I / PMV1)\n",
    "        row.append(ownership * 100.0)\n",
    "        ownership = ownership * (1.0 - dilution / 100.0)\n",
    "        row.append(ownership * 100.0)\n",
    "        \n",
    "        dollars_returned =  ownership * EV\n",
    "        row.append(dollars_returned)\n",
    "        \n",
    "        row.append(dollars_returned / I)\n",
    "        \n",
    "        epm = EPM(I, ownership *  100)\n",
    "        row.append(epm)\n",
    "        array.append(row)\n",
    "\n",
    "    return pd.DataFrame(array, columns=['dilution (%)', 'ownership (pre) (%)', 'ownership (post) (%)', \n",
    "                                        'dollars returned (M)', 'multiple (X)', 'effective post-money (M)'])\n",
    "    "
   ]
  },
  {
   "cell_type": "markdown",
   "metadata": {},
   "source": [
    "> What this shows is that the investor’s multiple dramatically changes depending on how many rounds of financing occur after the initial round and the level of dilution of each round.\n",
    "\n",
    ">I like thinking about this in terms of effective post-money because it creates a more visceral reaction. If this company goes on to raise multiple financing rounds such that new investors and future employees end up with an additional 50%, the seed investor mathematically invested at a $20M post-money valuation. Still good, but not what you think of as seed-stage prices.\n",
    "\n",
    ">> This is why celebrating big financings isn’t always such a great thing.\n",
    ">> Apart from the screwed-up incentives that can arise from overcapitalized companies, \n",
    ">> each time a company raises money, all prior investors get diluted, \n",
    ">> which increases the effective post-money of all the earlier dollars."
   ]
  }
 ],
 "metadata": {
  "kernelspec": {
   "display_name": "Python 3",
   "language": "python",
   "name": "python3"
  },
  "language_info": {
   "codemirror_mode": {
    "name": "ipython",
    "version": 3
   },
   "file_extension": ".py",
   "mimetype": "text/x-python",
   "name": "python",
   "nbconvert_exporter": "python",
   "pygments_lexer": "ipython3",
   "version": "3.6.4"
  }
 },
 "nbformat": 4,
 "nbformat_minor": 2
}
