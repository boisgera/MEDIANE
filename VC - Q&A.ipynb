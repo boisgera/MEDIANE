{
 "cells": [
  {
   "cell_type": "markdown",
   "metadata": {},
   "source": [
    "**Source:** [Better Everyday] blog, by [Rob Go], cofounder of NextView.\n",
    "\n",
    "Fragments of the original article are displayed as block quotations.\n",
    "\n",
    "[Better Everyday]: https://bettereveryday.vc/how-hard-is-it-to-generate-a-10x-return-on-an-investment-9c1656d6c3af\n",
    "[Rob Go]: https://bettereveryday.vc/@robgo"
   ]
  },
  {
   "cell_type": "markdown",
   "metadata": {},
   "source": [
    "> How Hard Is It to Generate a 10X Return on an Investment?\n",
    "> ===============================\n",
    "\n",
    "> *Disclaimer: This post gets fairly detailed on venture math. I generally think it’s helpful for founders who take VC money to understand the business of their investors because it impacts their incentives and how they see the world. Those who have no interest in these sorts of topics should move on or go back to watching the price of BTC :)*\n",
    "\n",
    "> Every time I see blog posts referencing multiples on VC investments, I wonder if writers or readers appreciate how hard it is to generate these kinds of multiples and how multiples should really be calculated.\n",
    "\n",
    "> Obviously, the way to calculate a return multiple is to divide the amount returned from an investment by the dollars invested. If I invested \\$10M in a company and got back \\$100M, that’s a 10X return. Seems pretty straightforward, right?\n",
    "\n",
    "> **The problem arises when multiples are inferred from incomplete data.** It’s quite rare that anybody but the fund manager actually knows the dollars out and dollars returned by a specific investment. And if you have incomplete data, there are usually a number of things that go into calculating or estimating the return. Here are a few other things to think about."
   ]
  },
  {
   "cell_type": "markdown",
   "metadata": {},
   "source": [
    "> ## How to Actually Calculate a Investment Return Multiple\n",
    "\n",
    "> ### Remember each round of financing further dilutes early investors’ money.\n",
    "\n",
    "> Let’s say a seed investor put in \\$1M in a company’s first financing around at a \\$10M post-money valuation. \n",
    "> The company ultimately sold for \\$200M. So, one might infer that the seed investor made \\$200M/\\$10M= 20X their money."
   ]
  },
  {
   "cell_type": "markdown",
   "metadata": {},
   "source": [
    "**Task.** Define a function `IRM` that computes the *investment return multiple* of an investor given\n",
    "\n",
    "  - its investment `I`\n",
    "\n",
    "  - the post-money valuation `PMV`\n",
    "  \n",
    "  - the exit value `EV` (the price at which the company was sold)."
   ]
  },
  {
   "cell_type": "code",
   "execution_count": 1,
   "metadata": {},
   "outputs": [],
   "source": [
    "def IRM(I, PMV, EV):\n",
    "    return EV / PMV"
   ]
  },
  {
   "cell_type": "markdown",
   "metadata": {},
   "source": [
    "**Task.** Check that your computation is consistent with the numbers of the article:"
   ]
  },
  {
   "cell_type": "code",
   "execution_count": 2,
   "metadata": {},
   "outputs": [
    {
     "data": {
      "application/vnd.jupyter.widget-view+json": {
       "model_id": "375af0d7bf4142748fdee1345b6d1891",
       "version_major": 2,
       "version_minor": 0
      },
      "text/html": [
       "<p>Failed to display Jupyter Widget of type <code>interactive</code>.</p>\n",
       "<p>\n",
       "  If you're reading this message in the Jupyter Notebook or JupyterLab Notebook, it may mean\n",
       "  that the widgets JavaScript is still loading. If this message persists, it\n",
       "  likely means that the widgets JavaScript library is either not installed or\n",
       "  not enabled. See the <a href=\"https://ipywidgets.readthedocs.io/en/stable/user_install.html\">Jupyter\n",
       "  Widgets Documentation</a> for setup instructions.\n",
       "</p>\n",
       "<p>\n",
       "  If you're reading this message in another frontend (for example, a static\n",
       "  rendering on GitHub or <a href=\"https://nbviewer.jupyter.org/\">NBViewer</a>),\n",
       "  it may mean that your frontend doesn't currently support widgets.\n",
       "</p>\n"
      ],
      "text/plain": [
       "interactive(children=(FloatText(value=1.0, description='investment (M)'), FloatText(value=10.0, description='post-money valuation (M)'), FloatText(value=200.0, description='exit value (M)'), Output()), _dom_classes=('widget-interact',))"
      ]
     },
     "metadata": {},
     "output_type": "display_data"
    }
   ],
   "source": [
    "from ipywidgets import interact, FloatText\n",
    "from IPython.display import Markdown\n",
    "\n",
    "wI = FloatText(description=\"investment (M)\", value=1.0)\n",
    "wPMV = FloatText(description=\"post-money valuation (M)\", value=10.0)\n",
    "wEV = FloatText(description=\"exit value (M)\", value=200.0)\n",
    "\n",
    "@interact(I=wI, PMV=wPMV, EV=wEV, continuous_update=False)\n",
    "def display_IRM(I, PMV, EV):\n",
    "    multiple = IRM(I, PMV, EV)\n",
    "    display(Markdown(\"**Investment Return Multiple:** {0:.1f}X\".format(multiple)))"
   ]
  },
  {
   "cell_type": "markdown",
   "metadata": {},
   "source": [
    "**Question.**\n",
    "If the investment is 1M and the post-money valuation is 10M, \n",
    "what is the minimal exit value that meets the target of a 10x multiple?"
   ]
  },
  {
   "cell_type": "markdown",
   "metadata": {},
   "source": [
    "**Answer.** The exit value should be at least **100M**. \n",
    "It's pretty clear that the return is an increasing function of the exit value and: "
   ]
  },
  {
   "cell_type": "code",
   "execution_count": 3,
   "metadata": {},
   "outputs": [
    {
     "data": {
      "text/markdown": [
       "**Investment Return Multiple:** 9.0X"
      ],
      "text/plain": [
       "<IPython.core.display.Markdown object>"
      ]
     },
     "metadata": {},
     "output_type": "display_data"
    },
    {
     "data": {
      "text/markdown": [
       "**Investment Return Multiple:** 10.0X"
      ],
      "text/plain": [
       "<IPython.core.display.Markdown object>"
      ]
     },
     "metadata": {},
     "output_type": "display_data"
    },
    {
     "data": {
      "text/markdown": [
       "**Investment Return Multiple:** 12.0X"
      ],
      "text/plain": [
       "<IPython.core.display.Markdown object>"
      ]
     },
     "metadata": {},
     "output_type": "display_data"
    }
   ],
   "source": [
    "display_IRM(I=1.0, PMV=10.0, EV=90)\n",
    "display_IRM(I=1.0, PMV=10.0, EV=100)\n",
    "display_IRM(I=1.0, PMV=10.0, EV=120)"
   ]
  },
  {
   "cell_type": "markdown",
   "metadata": {},
   "source": [
    "**Question.** Does the investment return multiple depend on the investment value?"
   ]
  },
  {
   "cell_type": "markdown",
   "metadata": {},
   "source": [
    "**Answer.** Nope. There is the following anecdotical evidence:"
   ]
  },
  {
   "cell_type": "code",
   "execution_count": 4,
   "metadata": {},
   "outputs": [
    {
     "data": {
      "text/markdown": [
       "**Investment Return Multiple:** 10.0X"
      ],
      "text/plain": [
       "<IPython.core.display.Markdown object>"
      ]
     },
     "metadata": {},
     "output_type": "display_data"
    },
    {
     "data": {
      "text/markdown": [
       "**Investment Return Multiple:** 10.0X"
      ],
      "text/plain": [
       "<IPython.core.display.Markdown object>"
      ]
     },
     "metadata": {},
     "output_type": "display_data"
    },
    {
     "data": {
      "text/markdown": [
       "**Investment Return Multiple:** 10.0X"
      ],
      "text/plain": [
       "<IPython.core.display.Markdown object>"
      ]
     },
     "metadata": {},
     "output_type": "display_data"
    },
    {
     "data": {
      "text/markdown": [
       "**Investment Return Multiple:** 10.0X"
      ],
      "text/plain": [
       "<IPython.core.display.Markdown object>"
      ]
     },
     "metadata": {},
     "output_type": "display_data"
    }
   ],
   "source": [
    "display_IRM(I=1.0, PMV=10.0, EV=100)\n",
    "display_IRM(I=2.0, PMV=10.0, EV=100)\n",
    "display_IRM(I=5.0, PMV=10.0, EV=100)\n",
    "display_IRM(I=10.0, PMV=10.0, EV=100)"
   ]
  },
  {
   "cell_type": "markdown",
   "metadata": {},
   "source": [
    "and then, of course the fact that the expression `EV / PMV` used in `IRM` doesn't use the variable `I`."
   ]
  },
  {
   "cell_type": "markdown",
   "metadata": {},
   "source": [
    "**Task.** Implement a conversion between the investment return multiple \n",
    "and the more familiar *return on investment* (ROI) percentage."
   ]
  },
  {
   "cell_type": "code",
   "execution_count": 5,
   "metadata": {},
   "outputs": [],
   "source": [
    "def IRM_to_ROI(IRM):\n",
    "    return (IRM - 1.0) * 100.0"
   ]
  },
  {
   "cell_type": "code",
   "execution_count": 6,
   "metadata": {},
   "outputs": [
    {
     "data": {
      "application/vnd.jupyter.widget-view+json": {
       "model_id": "fc98c2bf857c47109ce3d37abd32d6d7",
       "version_major": 2,
       "version_minor": 0
      },
      "text/html": [
       "<p>Failed to display Jupyter Widget of type <code>interactive</code>.</p>\n",
       "<p>\n",
       "  If you're reading this message in the Jupyter Notebook or JupyterLab Notebook, it may mean\n",
       "  that the widgets JavaScript is still loading. If this message persists, it\n",
       "  likely means that the widgets JavaScript library is either not installed or\n",
       "  not enabled. See the <a href=\"https://ipywidgets.readthedocs.io/en/stable/user_install.html\">Jupyter\n",
       "  Widgets Documentation</a> for setup instructions.\n",
       "</p>\n",
       "<p>\n",
       "  If you're reading this message in another frontend (for example, a static\n",
       "  rendering on GitHub or <a href=\"https://nbviewer.jupyter.org/\">NBViewer</a>),\n",
       "  it may mean that your frontend doesn't currently support widgets.\n",
       "</p>\n"
      ],
      "text/plain": [
       "interactive(children=(FloatText(value=10.0, description='investment return multiple'), Output()), _dom_classes=('widget-interact',))"
      ]
     },
     "metadata": {},
     "output_type": "display_data"
    }
   ],
   "source": [
    "from ipywidgets import interact, FloatText\n",
    "from IPython.display import Markdown\n",
    "\n",
    "wIRM = FloatText(description=\"investment return multiple\", value=10.0)\n",
    "\n",
    "@interact(IRM=wIRM, continuous_update=False)\n",
    "def display_ROI(IRM):\n",
    "    ROI = IRM_to_ROI(IRM)\n",
    "    display(Markdown(\"**Return On Investment:** {0:.1f}%\".format(ROI)))"
   ]
  },
  {
   "cell_type": "markdown",
   "metadata": {},
   "source": [
    "**Question.** What is the ROI associated to a 3X multiple ?"
   ]
  },
  {
   "cell_type": "markdown",
   "metadata": {},
   "source": [
    "**Answer.** 200%, since:"
   ]
  },
  {
   "cell_type": "code",
   "execution_count": 7,
   "metadata": {},
   "outputs": [
    {
     "data": {
      "text/markdown": [
       "**Return On Investment:** 200.0%"
      ],
      "text/plain": [
       "<IPython.core.display.Markdown object>"
      ]
     },
     "metadata": {},
     "output_type": "display_data"
    }
   ],
   "source": [
    "display_ROI(3.0)"
   ]
  },
  {
   "cell_type": "markdown",
   "metadata": {},
   "source": [
    "> Unfortunately, this is almost never the case.\n",
    "\n",
    "> In almost any outcome like this, the company goes on to raise more money, usually at higher prices. As new investors come on board, all existing shareholders of the company will have their ownership stake in the business diluted. This also happens when a company expands their option pool.\n",
    "\n",
    "> Here’s how that plays out for the seed investors.\n",
    "\n",
    "> Let’s say this theoretical company raises just one more round of financing. It’s a \\$10M round at a \\$50M post-money valuation. And as part of the round, the option pool of the company is expanded by an additional 10%. \n",
    "After this round, the company has their \\$200M exit.\n",
    "\n",
    "> In this example, the flow of the math would be something like this: The seed investor owned 10% after the seed financing. In the next round, the seed investor’s ownership is diluted by 30% (20% due the new financing and 10% due to the expanded option pool).\n",
    "\n",
    "> So the seed investor’s ownership was actually 7% at exit. \n",
    "Thus, their \\$1M returns \\$14M — a 14X return. \n",
    "Pretty great, but meaningfully different from 20X."
   ]
  },
  {
   "cell_type": "markdown",
   "metadata": {},
   "source": [
    "**Task.** Create a new function `IRM` that computes the investment return multiple given:\n",
    "\n",
    "  - your first round investment `I`\n",
    "  \n",
    "  - the first round post-money valuation `PMV1`\n",
    "  \n",
    "  - the second round size `RS`\n",
    "  \n",
    "  - the second round option pool `OP` (a percentage)\n",
    "  \n",
    "  - the second round post-money valuation `PMV2`\n",
    "   \n",
    "  - the exit value `EV`\n",
    "  "
   ]
  },
  {
   "cell_type": "code",
   "execution_count": 8,
   "metadata": {},
   "outputs": [],
   "source": [
    "def IRM(I, PMV1, OP, RS, PMV2, EV):\n",
    "    ownership = I / PMV1\n",
    "    dilution = RS / PMV2 + OP/100.0\n",
    "    ownership = ownership * (1 - dilution)\n",
    "    return (ownership * EV) / I"
   ]
  },
  {
   "cell_type": "markdown",
   "metadata": {},
   "source": [
    "**Task.** Check with the widget below that your computation match the ones of the article."
   ]
  },
  {
   "cell_type": "code",
   "execution_count": 11,
   "metadata": {},
   "outputs": [
    {
     "data": {
      "application/vnd.jupyter.widget-view+json": {
       "model_id": "8797c88941e94c1dbd8721275ce4ac50",
       "version_major": 2,
       "version_minor": 0
      },
      "text/html": [
       "<p>Failed to display Jupyter Widget of type <code>HBox</code>.</p>\n",
       "<p>\n",
       "  If you're reading this message in the Jupyter Notebook or JupyterLab Notebook, it may mean\n",
       "  that the widgets JavaScript is still loading. If this message persists, it\n",
       "  likely means that the widgets JavaScript library is either not installed or\n",
       "  not enabled. See the <a href=\"https://ipywidgets.readthedocs.io/en/stable/user_install.html\">Jupyter\n",
       "  Widgets Documentation</a> for setup instructions.\n",
       "</p>\n",
       "<p>\n",
       "  If you're reading this message in another frontend (for example, a static\n",
       "  rendering on GitHub or <a href=\"https://nbviewer.jupyter.org/\">NBViewer</a>),\n",
       "  it may mean that your frontend doesn't currently support widgets.\n",
       "</p>\n"
      ],
      "text/plain": [
       "HBox(children=(VBox(children=(Label(value='First Round'), FloatText(value=1.0, description='investment (M)'), FloatText(value=10.0, description='post-money valuation (M)'))), VBox(children=(Label(value='Second Round'), FloatSlider(value=10.0, description='option pool (%)', max=80.0), FloatText(value=10.0, description='round size (M)'), FloatText(value=50.0, description='post-money valuation (M)'))), VBox(children=(Label(value='Exit'), FloatText(value=200.0, description='exit value (M)')))))"
      ]
     },
     "metadata": {},
     "output_type": "display_data"
    },
    {
     "data": {
      "application/vnd.jupyter.widget-view+json": {
       "model_id": "4d779af198fc418493c29e09f36fb875",
       "version_major": 2,
       "version_minor": 0
      },
      "text/html": [
       "<p>Failed to display Jupyter Widget of type <code>Output</code>.</p>\n",
       "<p>\n",
       "  If you're reading this message in the Jupyter Notebook or JupyterLab Notebook, it may mean\n",
       "  that the widgets JavaScript is still loading. If this message persists, it\n",
       "  likely means that the widgets JavaScript library is either not installed or\n",
       "  not enabled. See the <a href=\"https://ipywidgets.readthedocs.io/en/stable/user_install.html\">Jupyter\n",
       "  Widgets Documentation</a> for setup instructions.\n",
       "</p>\n",
       "<p>\n",
       "  If you're reading this message in another frontend (for example, a static\n",
       "  rendering on GitHub or <a href=\"https://nbviewer.jupyter.org/\">NBViewer</a>),\n",
       "  it may mean that your frontend doesn't currently support widgets.\n",
       "</p>\n"
      ],
      "text/plain": [
       "Output()"
      ]
     },
     "metadata": {},
     "output_type": "display_data"
    }
   ],
   "source": [
    "from ipywidgets import interactive_output, FloatText, FloatSlider, Label, VBox, HBox\n",
    "from IPython.display import Markdown\n",
    "\n",
    "wL1 = Label(\"First Round\")\n",
    "wI = FloatText(description=\"investment (M)\", value=1.0)\n",
    "wPMV1 = FloatText(description=\"post-money valuation (M)\", value=10.0)\n",
    "\n",
    "wL2 = Label(\"Second Round\")\n",
    "wRS = FloatText(description=\"round size (M)\", value=10.0)\n",
    "wOP = FloatSlider(description=\"option pool (%)\", min=0, max=100.0, value=10.0)\n",
    "wPMV2 = FloatText(description=\"post-money valuation (M)\", value=50.0)\n",
    "\n",
    "def update_option_pool_max(*args):\n",
    "    max_percentage = (1.0 - wRS.value/wPMV2.value) * 100\n",
    "    wOP.max = max_percentage\n",
    "    \n",
    "update_option_pool_max()\n",
    "    \n",
    "wRS.observe(update_option_pool_max, \"value\")\n",
    "wPMV2.observe(update_option_pool_max, \"value\")\n",
    "\n",
    "wL3 = Label(\"Exit\")\n",
    "wEV = FloatText(description=\"exit value (M)\", value=200.0)\n",
    "\n",
    "R1 = VBox([wL1, wI, wPMV1])\n",
    "R2 = VBox([wL2, wOP, wRS, wPMV2])\n",
    "R3 = VBox([wL3, wEV])\n",
    "\n",
    "w = HBox([R1, R2, R3])\n",
    "\n",
    "def display_IRM(I, PMV1, OP, RS, PMV2, EV):\n",
    "    irm = IRM(I, PMV1, OP, RS, PMV2, EV)\n",
    "    display(Markdown(\"**Investment Return Multiple:** {0:.1f}\".format(irm)))\n",
    "\n",
    "out = interactive_output(display_IRM, {\"I\": wI, \"PMV1\": wPMV1, \"OP\": wOP, \"RS\": wRS, \"PMV2\": wPMV2, \"EV\": wEV})\n",
    "\n",
    "display(w, out)"
   ]
  },
  {
   "cell_type": "markdown",
   "metadata": {},
   "source": [
    "**Question.** How does the return multiple depend on the exit value in this model?"
   ]
  },
  {
   "cell_type": "markdown",
   "metadata": {},
   "source": [
    "**Answer.** Linearly; for example:"
   ]
  },
  {
   "cell_type": "code",
   "execution_count": 14,
   "metadata": {},
   "outputs": [
    {
     "data": {
      "text/markdown": [
       "**Investment Return Multiple:** 7.0"
      ],
      "text/plain": [
       "<IPython.core.display.Markdown object>"
      ]
     },
     "metadata": {},
     "output_type": "display_data"
    },
    {
     "data": {
      "text/markdown": [
       "**Investment Return Multiple:** 14.0"
      ],
      "text/plain": [
       "<IPython.core.display.Markdown object>"
      ]
     },
     "metadata": {},
     "output_type": "display_data"
    },
    {
     "data": {
      "text/markdown": [
       "**Investment Return Multiple:** 28.0"
      ],
      "text/plain": [
       "<IPython.core.display.Markdown object>"
      ]
     },
     "metadata": {},
     "output_type": "display_data"
    }
   ],
   "source": [
    "display_IRM(I=1.0, PMV1=10.0, OP=10.0, RS=10.0, PMV2=50.0, EV=100)\n",
    "display_IRM(I=1.0, PMV1=10.0, OP=10.0, RS=10.0, PMV2=50.0, EV=200)\n",
    "display_IRM(I=1.0, PMV1=10.0, OP=10.0, RS=10.0, PMV2=50.0, EV=400)"
   ]
  },
  {
   "cell_type": "markdown",
   "metadata": {},
   "source": [
    "**Question.** How does the return multiple improve if no option pool is created in round 2?"
   ]
  },
  {
   "cell_type": "markdown",
   "metadata": {},
   "source": [
    "**Answer.** We go from a multiple of 14X to a multiple of 16X:"
   ]
  },
  {
   "cell_type": "code",
   "execution_count": 16,
   "metadata": {},
   "outputs": [
    {
     "data": {
      "text/markdown": [
       "**Investment Return Multiple:** 14.0"
      ],
      "text/plain": [
       "<IPython.core.display.Markdown object>"
      ]
     },
     "metadata": {},
     "output_type": "display_data"
    },
    {
     "data": {
      "text/markdown": [
       "**Investment Return Multiple:** 16.0"
      ],
      "text/plain": [
       "<IPython.core.display.Markdown object>"
      ]
     },
     "metadata": {},
     "output_type": "display_data"
    }
   ],
   "source": [
    "display_IRM(I=1.0, PMV1=10.0, OP=10.0, RS=10.0, PMV2=50.0, EV=200)\n",
    "display_IRM(I=1.0, PMV1=10.0, OP=00.0, RS=10.0, PMV2=50.0, EV=200)"
   ]
  },
  {
   "cell_type": "markdown",
   "metadata": {},
   "source": [
    "> Another way to look at it is the effective post-money of the investment. \n",
    "At the seed, the investor bought 10% for \\$1M. \n",
    "But when it was all said and done, the investor actually bought 7% for \\$1M. \n",
    "It was like they invested in the company at a valuation of \\$1M / 7% = \\$14.3M.\n",
    "\n",
    "> But most companies do not have a straight shot to a multi-hundred million dollar exit with just a seed and Series A. \n",
    "Most raise multiple rounds, and dilution happens at each round."
   ]
  },
  {
   "cell_type": "markdown",
   "metadata": {},
   "source": [
    "> Below is a sample outcome table for a few scenarios.\n",
    "> ![Fund Multiples & Effective Post-Money](https://cdn-images-1.medium.com/max/600/1*sK0tR1eGTX1t4DiA2Nt0pg.png)\n",
    "\n",
    "> What this shows is that the investor’s multiple dramatically changes depending on how many rounds of financing occur after the initial round and the level of dilution of each round.\n",
    "\n",
    ">I like thinking about this in terms of effective post-money because it creates a more visceral reaction. If this company goes on to raise multiple financing rounds such that new investors and future employees end up with an additional 50%, the seed investor mathematically invested at a $20M post-money valuation. Still good, but not what you think of as seed-stage prices.\n",
    "\n",
    ">> This is why celebrating big financings isn’t always such a great thing.\n",
    ">> Apart from the screwed-up incentives that can arise from overcapitalized companies, \n",
    ">> each time a company raises money, all prior investors get diluted, \n",
    ">> which increases the effective post-money of all the earlier dollars."
   ]
  }
 ],
 "metadata": {
  "kernelspec": {
   "display_name": "Python 3",
   "language": "python",
   "name": "python3"
  },
  "language_info": {
   "codemirror_mode": {
    "name": "ipython",
    "version": 3
   },
   "file_extension": ".py",
   "mimetype": "text/x-python",
   "name": "python",
   "nbconvert_exporter": "python",
   "pygments_lexer": "ipython3",
   "version": "3.6.4"
  }
 },
 "nbformat": 4,
 "nbformat_minor": 2
}
