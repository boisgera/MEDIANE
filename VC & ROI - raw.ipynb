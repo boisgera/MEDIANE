{
 "cells": [
  {
   "cell_type": "markdown",
   "metadata": {},
   "source": [
    "**Source:** [Better Everyday] blog, by [Rob Go], cofounder of NextView.\n",
    "\n",
    "Fragments of the original article are displayed as block quotations.\n",
    "\n",
    "[Better Everyday]: https://bettereveryday.vc/how-hard-is-it-to-generate-a-10x-return-on-an-investment-9c1656d6c3af\n",
    "[Rob Go]: https://bettereveryday.vc/@robgo"
   ]
  },
  {
   "cell_type": "markdown",
   "metadata": {},
   "source": [
    "> How Hard Is It to Generate a 10X Return on an Investment?\n",
    "> ===============================\n",
    "\n",
    "> *Disclaimer: This post gets fairly detailed on venture math. I generally think it’s helpful for founders who take VC money to understand the business of their investors because it impacts their incentives and how they see the world. Those who have no interest in these sorts of topics should move on or go back to watching the price of BTC :)*\n",
    "\n",
    "> Every time I see blog posts referencing multiples on VC investments, I wonder if writers or readers appreciate how hard it is to generate these kinds of multiples and how multiples should really be calculated.\n",
    "\n",
    "> Obviously, the way to calculate a return multiple is to divide the amount returned from an investment by the dollars invested. If I invested \\$10M in a company and got back \\$100M, that’s a 10X return. Seems pretty straightforward, right?\n",
    "\n",
    "> **The problem arises when multiples are inferred from incomplete data.** It’s quite rare that anybody but the fund manager actually knows the dollars out and dollars returned by a specific investment. And if you have incomplete data, there are usually a number of things that go into calculating or estimating the return. Here are a few other things to think about."
   ]
  },
  {
   "cell_type": "markdown",
   "metadata": {},
   "source": [
    "> ## How to Actually Calculate a Investment Return Multiple\n",
    "\n",
    "> ### Remember each round of financing further dilutes early investors’ money.\n",
    "\n",
    "> Let’s say a seed investor put in \\$1M in a company’s first financing around at a \\$10M post-money valuation. \n",
    "> The company ultimately sold for \\$200M. So, one might infer that the seed investor made \\$200M/\\$10M= 20X their money.\n",
    "\n",
    "\n",
    "> Unfortunately, this is almost never the case.\n",
    "\n",
    "> In almost any outcome like this, the company goes on to raise more money, usually at higher prices. As new investors come on board, all existing shareholders of the company will have their ownership stake in the business diluted. This also happens when a company expands their option pool.\n",
    "\n",
    "> Here’s how that plays out for the seed investors.\n",
    "\n",
    "> Let’s say this theoretical company raises just one more round of financing. It’s a \\$10M round at a \\$50M post-money valuation. And as part of the round, the option pool of the company is expanded by an additional 10%. \n",
    "After this round, the company has their \\$200M exit.\n",
    "\n",
    "> In this example, the flow of the math would be something like this: The seed investor owned 10% after the seed financing. In the next round, the seed investor’s ownership is diluted by 30% (20% due the new financing and 10% due to the expanded option pool).\n",
    "\n",
    "> So the seed investor’s ownership was actually 7% at exit. \n",
    "Thus, their \\$1M returns \\$14M — a 14X return. \n",
    "Pretty great, but meaningfully different from 20X.\n",
    "\n",
    "> Another way to look at it is the effective post-money of the investment. \n",
    "At the seed, the investor bought 10% for \\$1M. \n",
    "But when it was all said and done, the investor actually bought 7% for \\$1M. \n",
    "It was like they invested in the company at a valuation of \\$1M / 7% = \\$14.3M.\n",
    "\n",
    "> But most companies do not have a straight shot to a multi-hundred million dollar exit with just a seed and Series A. \n",
    "Most raise multiple rounds, and dilution happens at each round."
   ]
  },
  {
   "cell_type": "markdown",
   "metadata": {},
   "source": [
    "> Below is a sample outcome table for a few scenarios.\n",
    "> ![Fund Multiples & Effective Post-Money](https://cdn-images-1.medium.com/max/600/1*sK0tR1eGTX1t4DiA2Nt0pg.png)\n",
    "\n",
    "> What this shows is that the investor’s multiple dramatically changes depending on how many rounds of financing occur after the initial round and the level of dilution of each round.\n",
    "\n",
    ">I like thinking about this in terms of effective post-money because it creates a more visceral reaction. If this company goes on to raise multiple financing rounds such that new investors and future employees end up with an additional 50%, the seed investor mathematically invested at a $20M post-money valuation. Still good, but not what you think of as seed-stage prices.\n",
    "\n",
    ">> This is why celebrating big financings isn’t always such a great thing.\n",
    ">> Apart from the screwed-up incentives that can arise from overcapitalized companies, \n",
    ">> each time a company raises money, all prior investors get diluted, \n",
    ">> which increases the effective post-money of all the earlier dollars."
   ]
  }
 ],
 "metadata": {
  "kernelspec": {
   "display_name": "Python 3",
   "language": "python",
   "name": "python3"
  },
  "language_info": {
   "codemirror_mode": {
    "name": "ipython",
    "version": 3
   },
   "file_extension": ".py",
   "mimetype": "text/x-python",
   "name": "python",
   "nbconvert_exporter": "python",
   "pygments_lexer": "ipython3",
   "version": "3.6.4"
  }
 },
 "nbformat": 4,
 "nbformat_minor": 2
}
