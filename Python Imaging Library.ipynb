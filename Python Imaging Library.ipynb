{
 "cells": [
  {
   "cell_type": "code",
   "execution_count": null,
   "metadata": {},
   "outputs": [],
   "source": [
    "from IPython.display import display\n",
    "from ipywidgets import interact, fixed"
   ]
  },
  {
   "cell_type": "markdown",
   "metadata": {},
   "source": [
    "Python Imaging Library\n",
    "=====================\n",
    "\n",
    "Notebook based on the tutorial of the [Python Imaging Library Handbook]\n",
    "\n",
    "[Python Imaging Library Handbook]: http://effbot.org/imagingbook/pil-index.htm\n"
   ]
  },
  {
   "cell_type": "code",
   "execution_count": null,
   "metadata": {},
   "outputs": [],
   "source": [
    "from matplotlib.pyplot import *\n",
    "%matplotlib notebook\n",
    "from PIL import Image"
   ]
  },
  {
   "cell_type": "markdown",
   "metadata": {},
   "source": [
    "The test image `lena.ppm` is required. It is available at <https://homepages.cae.wisc.edu/~ece533/images/>.  \n",
    "Download it and put it in the `images` directory."
   ]
  },
  {
   "cell_type": "code",
   "execution_count": null,
   "metadata": {},
   "outputs": [],
   "source": [
    "im = Image.open(\"images/lena.ppm\")\n",
    "im"
   ]
  },
  {
   "cell_type": "code",
   "execution_count": null,
   "metadata": {},
   "outputs": [],
   "source": [
    "# test online image\n",
    "#im_online = Image.open(\"https://homepages.cae.wisc.edu/~ece533/images/lena.ppm\")"
   ]
  },
  {
   "cell_type": "code",
   "execution_count": null,
   "metadata": {},
   "outputs": [],
   "source": [
    "512-128\n"
   ]
  },
  {
   "cell_type": "code",
   "execution_count": null,
   "metadata": {},
   "outputs": [],
   "source": [
    "print(im.format, im.size, im.mode)"
   ]
  },
  {
   "cell_type": "code",
   "execution_count": null,
   "metadata": {},
   "outputs": [],
   "source": [
    "left = 128\n",
    "upper = 128\n",
    "right = 512 - 128\n",
    "lower = 512 - 128"
   ]
  },
  {
   "cell_type": "code",
   "execution_count": null,
   "metadata": {},
   "outputs": [],
   "source": [
    "im.crop((left, upper, right, lower))"
   ]
  },
  {
   "cell_type": "code",
   "execution_count": null,
   "metadata": {},
   "outputs": [],
   "source": [
    "@interact(left=fixed(0), upper=fixed(0), right=256, lower=256)\n",
    "def crop(left, upper, right, lower):\n",
    "    return im.crop((left, upper, right, lower))\n"
   ]
  },
  {
   "cell_type": "code",
   "execution_count": null,
   "metadata": {},
   "outputs": [],
   "source": [
    "im.convert(\"L\")"
   ]
  },
  {
   "cell_type": "code",
   "execution_count": null,
   "metadata": {},
   "outputs": [],
   "source": [
    "def f(factor):\n",
    "    return im.point(lambda i: i * factor)\n",
    "\n",
    "#interact(f, factor=IntSlider(min=0.0,max=2.0,step=0.1,value=1.0))\n",
    "\n",
    "display(f(1.0))\n",
    "f(3.0)"
   ]
  },
  {
   "cell_type": "code",
   "execution_count": null,
   "metadata": {},
   "outputs": [],
   "source": [
    "fi = interact(f, factor=1.0)"
   ]
  },
  {
   "cell_type": "code",
   "execution_count": null,
   "metadata": {},
   "outputs": [],
   "source": [
    "R, G, B = im.split()\n",
    "display(R)\n",
    "display(G)\n",
    "display(B)"
   ]
  },
  {
   "cell_type": "code",
   "execution_count": null,
   "metadata": {},
   "outputs": [],
   "source": [
    "display(im.mode)\n",
    "R, G, B = im.split()\n",
    "Rh = R.histogram()\n",
    "Gh = G.histogram()\n",
    "Bh = B.histogram()\n",
    "plot(Rh, \"r\")\n",
    "plot(Gh, \"g\")\n",
    "plot(Bh, \"b\")\n",
    "ylabel(\"nombre de pixels\")\n",
    "xlabel(\"intensité [0-255]\")\n",
    "title(\"Histogramme des couleurs\")\n",
    "grid(True)"
   ]
  },
  {
   "cell_type": "code",
   "execution_count": null,
   "metadata": {},
   "outputs": [],
   "source": [
    "Z = R.point(lambda i: 0)\n",
    "display(Image.merge(\"RGB\", (R, Z, Z)))\n",
    "display(Image.merge(\"RGB\", (Z, G, Z)))\n",
    "display(Image.merge(\"RGB\", (Z, Z, B)))\n",
    "\n"
   ]
  }
 ],
 "metadata": {
  "kernelspec": {
   "display_name": "Python 3",
   "language": "python",
   "name": "python3"
  },
  "language_info": {
   "codemirror_mode": {
    "name": "ipython",
    "version": 2
   },
   "file_extension": ".py",
   "mimetype": "text/x-python",
   "name": "python",
   "nbconvert_exporter": "python",
   "pygments_lexer": "ipython2",
   "version": "2.7.13"
  }
 },
 "nbformat": 4,
 "nbformat_minor": 2
}
